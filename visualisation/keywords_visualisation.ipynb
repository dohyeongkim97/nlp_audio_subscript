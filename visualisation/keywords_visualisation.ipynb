{
 "cells": [
  {
   "cell_type": "code",
   "execution_count": null,
   "id": "bab0db05",
   "metadata": {},
   "outputs": [],
   "source": [
    "import pandas as pd\n",
    "\n",
    "import sklearn\n",
    "from sklearn.feature_extraction.text import TfidfVectorizer\n",
    "from sklearn.feature_extraction.text import CountVectorizer\n",
    "\n",
    "tags = pd.DataFrame()\n",
    "\n",
    "tf = TfidfVectorizer()\n",
    "ct = CountVectorizer()\n",
    "\n",
    "tags = ct.fit_transform(df['tags_list'].dropna())\n",
    "\n",
    "feature_names = ct.get_feature_names_out()\n",
    "\n",
    "tags_df = pd.DataFrame(tags.toarray(), columns=feature_names)\n",
    "\n",
    "tags_df\n",
    "\n",
    "values = pd.DataFrame(tags_df.sum().sort_values(ascending=False))"
   ]
  }
 ],
 "metadata": {
  "kernelspec": {
   "display_name": "Python 3 (ipykernel)",
   "language": "python",
   "name": "python3"
  },
  "language_info": {
   "codemirror_mode": {
    "name": "ipython",
    "version": 3
   },
   "file_extension": ".py",
   "mimetype": "text/x-python",
   "name": "python",
   "nbconvert_exporter": "python",
   "pygments_lexer": "ipython3",
   "version": "3.11.4"
  }
 },
 "nbformat": 4,
 "nbformat_minor": 5
}
